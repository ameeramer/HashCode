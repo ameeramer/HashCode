{
 "cells": [
  {
   "cell_type": "code",
   "execution_count": 1,
   "metadata": {
    "ExecuteTime": {
     "end_time": "2022-08-29T12:53:23.782666Z",
     "start_time": "2022-08-29T12:53:23.767742Z"
    }
   },
   "outputs": [],
   "source": [
    "from Parser import *\n",
    "\n"
   ]
  },
  {
   "cell_type": "code",
   "execution_count": 3,
   "metadata": {
    "ExecuteTime": {
     "end_time": "2022-08-29T12:14:17.317231Z",
     "start_time": "2022-08-29T12:14:17.303266Z"
    }
   },
   "outputs": [],
   "source": [
    "(contributors,projects) = parse(r\"C:\\Users\\user\\Desktop\\google_hashcode\\a_an_example.in.txt\")"
   ]
  },
  {
   "cell_type": "code",
   "execution_count": 4,
   "metadata": {
    "ExecuteTime": {
     "end_time": "2022-08-29T12:14:36.524488Z",
     "start_time": "2022-08-29T12:14:35.517303Z"
    }
   },
   "outputs": [],
   "source": [
    "import pandas as pd\n",
    "\n",
    "projects_df = pd.DataFrame(columns=['name','days','score','best_before','roles'])\n",
    "for proj in projects:\n",
    "    projects_df = projects_df.append({\n",
    "        'name':proj.name,\n",
    "        'days':proj.number_of_days,\n",
    "        'score':proj.score,\n",
    "        'best_before':proj.best_before,\n",
    "        'roles':len(proj.roles)\n",
    "    },ignore_index = True)"
   ]
  },
  {
   "cell_type": "code",
   "execution_count": 5,
   "metadata": {
    "ExecuteTime": {
     "end_time": "2022-08-29T12:14:39.770012Z",
     "start_time": "2022-08-29T12:14:39.710093Z"
    }
   },
   "outputs": [
    {
     "name": "stdout",
     "output_type": "stream",
     "text": [
      "        name days score best_before roles score_rate start_deadline\n",
      "0    Logging    5    10           5     1          2              0\n",
      "1  WebServer    7    10           7     2    1.42857              0\n",
      "2    WebChat   10    20          20     2          2             10\n"
     ]
    },
    {
     "data": {
      "text/plain": [
       "['Logging', 'WebServer', 'WebChat']"
      ]
     },
     "execution_count": 5,
     "metadata": {},
     "output_type": "execute_result"
    }
   ],
   "source": [
    "projects_df[\"score_rate\"] = projects_df[\"score\"]/projects_df[\"days\"]\n",
    "projects_df[\"start_deadline\"] = projects_df[\"best_before\"] - projects_df[\"days\"]\n",
    "projects_df = projects_df.sort_values(by = [\"start_deadline\",\"score_rate\"], ascending=[True,False])\n",
    "print(projects_df)\n",
    "projects_df[\"name\"].tolist()\n"
   ]
  },
  {
   "cell_type": "code",
   "execution_count": 2,
   "metadata": {
    "ExecuteTime": {
     "end_time": "2022-08-29T12:53:26.525209Z",
     "start_time": "2022-08-29T12:53:26.521225Z"
    }
   },
   "outputs": [],
   "source": [
    "allocations = [(\"proj1\",[\"anna\",\"bobby\"]),(\"proj2\",[\"charlie\"])]"
   ]
  },
  {
   "cell_type": "code",
   "execution_count": 3,
   "metadata": {
    "ExecuteTime": {
     "end_time": "2022-08-29T12:53:26.619990Z",
     "start_time": "2022-08-29T12:53:26.606035Z"
    }
   },
   "outputs": [
    {
     "data": {
      "text/plain": [
       "[('proj1', ['anna', 'bobby']), ('proj2', ['charlie'])]"
      ]
     },
     "execution_count": 3,
     "metadata": {},
     "output_type": "execute_result"
    }
   ],
   "source": [
    "allocations"
   ]
  },
  {
   "cell_type": "code",
   "execution_count": 4,
   "metadata": {
    "ExecuteTime": {
     "end_time": "2022-08-29T12:53:26.774649Z",
     "start_time": "2022-08-29T12:53:26.755890Z"
    }
   },
   "outputs": [],
   "source": [
    "out_parse(allocations,\"out.txt\")"
   ]
  },
  {
   "cell_type": "code",
   "execution_count": null,
   "metadata": {},
   "outputs": [],
   "source": []
  }
 ],
 "metadata": {
  "kernelspec": {
   "display_name": "Python 3",
   "language": "python",
   "name": "python3"
  },
  "language_info": {
   "codemirror_mode": {
    "name": "ipython",
    "version": 3
   },
   "file_extension": ".py",
   "mimetype": "text/x-python",
   "name": "python",
   "nbconvert_exporter": "python",
   "pygments_lexer": "ipython3",
   "version": "3.7.3"
  },
  "varInspector": {
   "cols": {
    "lenName": 16,
    "lenType": 16,
    "lenVar": 40
   },
   "kernels_config": {
    "python": {
     "delete_cmd_postfix": "",
     "delete_cmd_prefix": "del ",
     "library": "var_list.py",
     "varRefreshCmd": "print(var_dic_list())"
    },
    "r": {
     "delete_cmd_postfix": ") ",
     "delete_cmd_prefix": "rm(",
     "library": "var_list.r",
     "varRefreshCmd": "cat(var_dic_list()) "
    }
   },
   "types_to_exclude": [
    "module",
    "function",
    "builtin_function_or_method",
    "instance",
    "_Feature"
   ],
   "window_display": false
  }
 },
 "nbformat": 4,
 "nbformat_minor": 2
}

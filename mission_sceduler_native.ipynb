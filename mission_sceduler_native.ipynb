{
 "cells": [
  {
   "cell_type": "code",
   "execution_count": 18,
   "metadata": {
    "ExecuteTime": {
     "end_time": "2022-08-29T11:35:06.782803Z",
     "start_time": "2022-08-29T11:35:06.772832Z"
    }
   },
   "outputs": [],
   "source": [
    "class Project:\n",
    "    def __init__(self, name, number_of_days, score, best_before, roles):\n",
    "        self.name = name\n",
    "        self.number_of_days = number_of_days\n",
    "        self.score = score\n",
    "        self.best_before = best_before\n",
    "        self.roles = dict()\n",
    "        "
   ]
  },
  {
   "cell_type": "code",
   "execution_count": 19,
   "metadata": {
    "ExecuteTime": {
     "end_time": "2022-08-29T11:35:12.100718Z",
     "start_time": "2022-08-29T11:35:12.092704Z"
    }
   },
   "outputs": [],
   "source": [
    "projects = []\n",
    "for i in range(100):\n",
    "    projects.append(Project(str(i),np.random.randint(100000),np.random.randint(100000),np.random.randint(100000),{}))"
   ]
  },
  {
   "cell_type": "code",
   "execution_count": 20,
   "metadata": {
    "ExecuteTime": {
     "end_time": "2022-08-29T11:35:12.871176Z",
     "start_time": "2022-08-29T11:35:12.665135Z"
    }
   },
   "outputs": [],
   "source": [
    "import pandas as pd\n",
    "\n",
    "projects_df = pd.DataFrame(columns=['name','days','score','best_before','roles'])\n",
    "for proj in projects:\n",
    "    projects_df = projects_df.append({\n",
    "        'name':proj.name,\n",
    "        'days':proj.number_of_days,\n",
    "        'score':proj.score,\n",
    "        'best_before':proj.best_before,\n",
    "        'roles':len(proj.roles)\n",
    "    },ignore_index = True)"
   ]
  },
  {
   "cell_type": "code",
   "execution_count": 24,
   "metadata": {
    "ExecuteTime": {
     "end_time": "2022-08-29T11:40:24.804919Z",
     "start_time": "2022-08-29T11:40:24.782027Z"
    }
   },
   "outputs": [
    {
     "name": "stdout",
     "output_type": "stream",
     "text": [
      "   name   days  score best_before roles score_rate start_deadline\n",
      "10   10  99976  10304        3469     0   0.103065         -96507\n",
      "37   37  96030  37114        6832     0   0.386483         -89198\n",
      "15   15  90490  90936        4258     0    1.00493         -86232\n",
      "60   60  92420  69074        6437     0   0.747392         -85983\n",
      "81   81  84810  46996        6778     0   0.554133         -78032\n",
      "8     8  78974  16865        3533     0   0.213551         -75441\n",
      "13   13  87832  75441       14866     0   0.858924         -72966\n",
      "75   75  98388  22706       26000     0    0.23078         -72388\n",
      "25   25  73985  74881        1879     0    1.01211         -72106\n",
      "41   41  86904   1903       15063     0  0.0218977         -71841\n",
      "97   97  88424  88480       19048     0    1.00063         -69376\n",
      "52   52  98213  91016       31825     0    0.92672         -66388\n",
      "88   88  84851  93231       19318     0    1.09876         -65533\n",
      "76   76  77823  14962       12571     0   0.192257         -65252\n",
      "55   55  73581  33753       10249     0   0.458719         -63332\n",
      "6     6  64727  50311        3342     0    0.77728         -61385\n",
      "68   68  93702  95456       33538     0    1.01872         -60164\n",
      "95   95  97630  11419       40398     0   0.116962         -57232\n",
      "27   27  78622  29383       25985     0   0.373725         -52637\n",
      "1     1  52504  25298        1978     0    0.48183         -50526\n",
      "87   87  48335  46914        1447     0   0.970601         -46888\n",
      "48   48  86586  39129       42326     0   0.451909         -44260\n",
      "30   30  66859   9601       24102     0   0.143601         -42757\n",
      "50   50  85516  39702       44861     0   0.464264         -40655\n",
      "79   79  44962  30342        5396     0   0.674837         -39566\n",
      "44   44  46627  31316        7574     0   0.671628         -39053\n",
      "89   89  43458  23775        4669     0    0.54708         -38789\n",
      "70   70  93941  70888       59719     0   0.754601         -34222\n",
      "62   62  88756  60003       54941     0   0.676044         -33815\n",
      "78   78  61082  53393       28381     0    0.87412         -32701\n",
      "..  ...    ...    ...         ...   ...        ...            ...\n",
      "99   99  67294  17888       81943     0   0.265819          14649\n",
      "23   23   9198  19546       26085     0    2.12503          16887\n",
      "53   53  15736  59628       34572     0    3.78927          18836\n",
      "34   34  38190   4032       58780     0   0.105577          20590\n",
      "57   57   8830  70614       33913     0    7.99706          25083\n",
      "92   92  64536  88304       91113     0    1.36829          26577\n",
      "67   67  26581  45065       53627     0    1.69538          27046\n",
      "29   29  43506  86101       72487     0    1.97906          28981\n",
      "42   42  51937  97596       81883     0    1.87912          29946\n",
      "83   83  26550  56751       59448     0    2.13751          32898\n",
      "16   16  18846  37784       52980     0    2.00488          34134\n",
      "82   82  11057  18284       48853     0    1.65361          37796\n",
      "59   59  18273  11358       57663     0   0.621573          39390\n",
      "11   11  44477  98624       84223     0    2.21742          39746\n",
      "74   74  19942  18482       63157     0   0.926788          43215\n",
      "73   73   7384  19935       52606     0    2.69976          45222\n",
      "43   43   8824  72387       54081     0    8.20342          45257\n",
      "21   21  13736  52384       59232     0    3.81363          45496\n",
      "35   35  31466  13303       77192     0   0.422774          45726\n",
      "72   72  28498  23172       80616     0    0.81311          52118\n",
      "4     4   5801  51168       60783     0    8.82055          54982\n",
      "47   47  14861  42314       75019     0    2.84732          60158\n",
      "65   65  29447   4827       95673     0   0.163922          66226\n",
      "77   77   1991  35267       79835     0    17.7132          77844\n",
      "38   38  16734  88408       95605     0    5.28314          78871\n",
      "69   69  15580  61392       95483     0    3.94044          79903\n",
      "20   20   1799  39653       81713     0    22.0417          79914\n",
      "91   91   2663  68115       83700     0    25.5783          81037\n",
      "17   17  14622  58082       95981     0    3.97223          81359\n",
      "0     0   2945  12865       93006     0    4.36842          90061\n",
      "\n",
      "[100 rows x 7 columns]\n"
     ]
    },
    {
     "data": {
      "text/plain": [
       "['10',\n",
       " '37',\n",
       " '15',\n",
       " '60',\n",
       " '81',\n",
       " '8',\n",
       " '13',\n",
       " '75',\n",
       " '25',\n",
       " '41',\n",
       " '97',\n",
       " '52',\n",
       " '88',\n",
       " '76',\n",
       " '55',\n",
       " '6',\n",
       " '68',\n",
       " '95',\n",
       " '27',\n",
       " '1',\n",
       " '87',\n",
       " '48',\n",
       " '30',\n",
       " '50',\n",
       " '79',\n",
       " '44',\n",
       " '89',\n",
       " '70',\n",
       " '62',\n",
       " '78',\n",
       " '2',\n",
       " '80',\n",
       " '40',\n",
       " '45',\n",
       " '31',\n",
       " '56',\n",
       " '46',\n",
       " '5',\n",
       " '14',\n",
       " '98',\n",
       " '33',\n",
       " '39',\n",
       " '58',\n",
       " '93',\n",
       " '9',\n",
       " '28',\n",
       " '66',\n",
       " '36',\n",
       " '24',\n",
       " '51',\n",
       " '18',\n",
       " '90',\n",
       " '61',\n",
       " '96',\n",
       " '12',\n",
       " '3',\n",
       " '7',\n",
       " '94',\n",
       " '64',\n",
       " '19',\n",
       " '86',\n",
       " '26',\n",
       " '63',\n",
       " '54',\n",
       " '32',\n",
       " '22',\n",
       " '85',\n",
       " '71',\n",
       " '49',\n",
       " '84',\n",
       " '99',\n",
       " '23',\n",
       " '53',\n",
       " '34',\n",
       " '57',\n",
       " '92',\n",
       " '67',\n",
       " '29',\n",
       " '42',\n",
       " '83',\n",
       " '16',\n",
       " '82',\n",
       " '59',\n",
       " '11',\n",
       " '74',\n",
       " '73',\n",
       " '43',\n",
       " '21',\n",
       " '35',\n",
       " '72',\n",
       " '4',\n",
       " '47',\n",
       " '65',\n",
       " '77',\n",
       " '38',\n",
       " '69',\n",
       " '20',\n",
       " '91',\n",
       " '17',\n",
       " '0']"
      ]
     },
     "execution_count": 24,
     "metadata": {},
     "output_type": "execute_result"
    }
   ],
   "source": [
    "projects_df[\"score_rate\"] = projects_df[\"score\"]/projects_df[\"days\"]\n",
    "projects_df[\"start_deadline\"] = projects_df[\"best_before\"] - projects_df[\"days\"]\n",
    "projects_df = projects_df.sort_values(by = [\"start_deadline\",\"score_rate\"], ascending=[True,False])\n",
    "print(projects_df)\n",
    "projects_df[\"name\"].tolist()\n"
   ]
  },
  {
   "cell_type": "code",
   "execution_count": null,
   "metadata": {},
   "outputs": [],
   "source": []
  }
 ],
 "metadata": {
  "kernelspec": {
   "display_name": "Python 3",
   "language": "python",
   "name": "python3"
  },
  "language_info": {
   "codemirror_mode": {
    "name": "ipython",
    "version": 3
   },
   "file_extension": ".py",
   "mimetype": "text/x-python",
   "name": "python",
   "nbconvert_exporter": "python",
   "pygments_lexer": "ipython3",
   "version": "3.7.3"
  },
  "varInspector": {
   "cols": {
    "lenName": 16,
    "lenType": 16,
    "lenVar": 40
   },
   "kernels_config": {
    "python": {
     "delete_cmd_postfix": "",
     "delete_cmd_prefix": "del ",
     "library": "var_list.py",
     "varRefreshCmd": "print(var_dic_list())"
    },
    "r": {
     "delete_cmd_postfix": ") ",
     "delete_cmd_prefix": "rm(",
     "library": "var_list.r",
     "varRefreshCmd": "cat(var_dic_list()) "
    }
   },
   "types_to_exclude": [
    "module",
    "function",
    "builtin_function_or_method",
    "instance",
    "_Feature"
   ],
   "window_display": false
  }
 },
 "nbformat": 4,
 "nbformat_minor": 2
}
